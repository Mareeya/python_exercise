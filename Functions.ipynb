{
 "cells": [
  {
   "cell_type": "markdown",
   "metadata": {},
   "source": [
    "# Chapter 41: Functions\n",
    "\n",
    "A function is a block of Python code that robotically does the same thing again\n",
    "and again, whenever you invoke its name. It saves you repetitive coding and\n",
    "makes your code easier to understand. <br>\n",
    "Python has many built-in functions like ``print(), input(), len()``. Besides built-ins you can also create your own\n",
    "functions to do more specific jobs—these are called user-defined functions. <br>\n",
    "<br>\n",
    "We'll start with a trivially simple example. Let's say you want to add two\n",
    "numbers and display the result:\n",
    "````python\n",
    "1 first_number = 2\n",
    "2 second_number = 3\n",
    "3 total = first_number + second_number\n",
    "````\n",
    "The code above assigns the integer 2 to the variable ``first_number`` and\n",
    "the integer 3 to the variable ``second_number``. Then it sums the values stored\n",
    "in the two variables and assigns the total to the third variable, ``total``.\n",
    "If you add this line…\n",
    "```` python\n",
    "4 print(total)\n",
    "````\n",
    "…Python displays the number ``5``, the sum of two numbers.<br>\n",
    "\n",
    "The same task can be incorporated in a function. The code below can also be called definition of a function."
   ]
  },
  {
   "cell_type": "code",
   "execution_count": 1,
   "metadata": {},
   "outputs": [],
   "source": [
    "def add_numbers():\n",
    "\tfirst_number = 2\n",
    "\tsecond_number = 3\n",
    "\ttotal = first_number + second_number\n",
    "\tprint(total)"
   ]
  },
  {
   "cell_type": "markdown",
   "metadata": {},
   "source": [
    "#### Function identifier and Function definition.\n",
    "\n",
    "In above example, we have created a function, which has a name ``add_numbers()`` which is also called ``function identifier``.\n",
    "a function identefier must follow a ``def`` which means a new function is being defined. slo notice that the instructions or code in a function is one ``tab indented`` (and other tab indentationsare to be added when and if required).\n",
    "<br><br>\n",
    "#### Calling a function\n",
    "a function can be called by entering the function name/identifier in code, e.g in order to call the above function write:\n",
    "````python\n",
    "add_number()\n",
    "````\n",
    "When Python sees this code, it runs all the code in the functionn amedd ``add_numbers``. The number ``5`` is displayed."
   ]
  },
  {
   "cell_type": "code",
   "execution_count": 4,
   "metadata": {},
   "outputs": [
    {
     "name": "stdout",
     "output_type": "stream",
     "text": [
      "5\n"
     ]
    }
   ],
   "source": [
    "add_numbers()"
   ]
  },
  {
   "cell_type": "markdown",
   "metadata": {},
   "source": [
    "#### Thingsto remember:\n",
    "\n",
    "when working with function remember following points:\n",
    "1. A function must be defined and called.\n",
    "2. A function must be defined prior to being called.\n",
    "3. Calling Function that is not defined or defined after the statement that calls it, will generate error and break program.\n",
    "4. The definiton and function call need not be close in code and can be written anywhere in code as long as definition comes before function call.\n",
    "5. Function name must follow the naming rules same as those for naming variables. \n",
    "\n",
    "###### some more examples:\n"
   ]
  },
  {
   "cell_type": "code",
   "execution_count": 8,
   "metadata": {},
   "outputs": [
    {
     "name": "stdout",
     "output_type": "stream",
     "text": [
      "Hello World\n"
     ]
    }
   ],
   "source": [
    "# definition\n",
    "def greet():\n",
    "\tprint(\"Hello World\")\n",
    "    \n",
    "# Function call\n",
    "greet()"
   ]
  },
  {
   "cell_type": "code",
   "execution_count": 9,
   "metadata": {},
   "outputs": [
    {
     "ename": "NameError",
     "evalue": "name 'print_name' is not defined",
     "output_type": "error",
     "traceback": [
      "\u001b[1;31m---------------------------------------------------------------------------\u001b[0m",
      "\u001b[1;31mNameError\u001b[0m                                 Traceback (most recent call last)",
      "\u001b[1;32m<ipython-input-9-97ffa60b0d42>\u001b[0m in \u001b[0;36m<module>\u001b[1;34m\u001b[0m\n\u001b[0;32m      3\u001b[0m \u001b[1;31m# function call\u001b[0m\u001b[1;33m\u001b[0m\u001b[1;33m\u001b[0m\u001b[1;33m\u001b[0m\u001b[0m\n\u001b[0;32m      4\u001b[0m \u001b[1;33m\u001b[0m\u001b[0m\n\u001b[1;32m----> 5\u001b[1;33m \u001b[0mprint_name\u001b[0m\u001b[1;33m(\u001b[0m\u001b[1;33m)\u001b[0m\u001b[1;33m\u001b[0m\u001b[1;33m\u001b[0m\u001b[0m\n\u001b[0m\u001b[0;32m      6\u001b[0m \u001b[1;33m\u001b[0m\u001b[0m\n\u001b[0;32m      7\u001b[0m \u001b[1;31m# fucntion definition\u001b[0m\u001b[1;33m\u001b[0m\u001b[1;33m\u001b[0m\u001b[1;33m\u001b[0m\u001b[0m\n",
      "\u001b[1;31mNameError\u001b[0m: name 'print_name' is not defined"
     ]
    }
   ],
   "source": [
    "# following code would give you an error because function is called is before definition\n",
    "\n",
    "# function call\n",
    "\n",
    "print_name()\n",
    "\n",
    "# fucntion definition\n",
    "def print_name():\n",
    "\tprint(\"My name is XYZ.\")"
   ]
  },
  {
   "cell_type": "markdown",
   "metadata": {},
   "source": [
    "Since a function can be called in multiple time let's try calling function defined in the beginning"
   ]
  },
  {
   "cell_type": "code",
   "execution_count": 12,
   "metadata": {},
   "outputs": [
    {
     "name": "stdout",
     "output_type": "stream",
     "text": [
      "5\n"
     ]
    }
   ],
   "source": [
    "# Recalling a function\n",
    "add_numbers()"
   ]
  },
  {
   "cell_type": "markdown",
   "metadata": {},
   "source": [
    "# 42. Functions: Passing them information\n",
    "\n",
    "In the previous example we created a function ``add_number`` that sum and print two numbers. However those two numbers were defined within the body of the function and no matter how many time that function is called the result will always be same. If we need to change the result we need to pass information to function.<br>\n",
    "The information can be passed to a fucntion using **Arguments** which are provided inside the *parenthesis* after function identifier. Suppose Now we want to create a function which add two number provided to a function. it will be like:\n",
    "```` python\n",
    "def add_numbers(first_number, second_number):\n",
    "    total = first_number + second_number\n",
    "    print(total)\n",
    "````\n",
    "\n",
    "now add_numbers have two arguments, i.e. `` first_number, second_number`` and in function deficiton both numbers are being added and the total is being printed. These variable in parenthesis are called ``function parameters``. It can be any name but should be a legal python variable, each to be separated by a ``,``."
   ]
  },
  {
   "cell_type": "code",
   "execution_count": 16,
   "metadata": {},
   "outputs": [
    {
     "ename": "SyntaxError",
     "evalue": "invalid syntax (<ipython-input-16-dd8f0a4e76d9>, line 1)",
     "output_type": "error",
     "traceback": [
      "\u001b[1;36m  File \u001b[1;32m\"<ipython-input-16-dd8f0a4e76d9>\"\u001b[1;36m, line \u001b[1;32m1\u001b[0m\n\u001b[1;33m    def 1add_numbers(first_number, second_number):\u001b[0m\n\u001b[1;37m        ^\u001b[0m\n\u001b[1;31mSyntaxError\u001b[0m\u001b[1;31m:\u001b[0m invalid syntax\n"
     ]
    }
   ],
   "source": [
    "def add_numbers(first_number, second_number):\n",
    "    total = first_number + second_number\n",
    "    print(total)"
   ]
  },
  {
   "cell_type": "markdown",
   "metadata": {},
   "source": [
    "##### Calling a function with arguments:\n",
    "\n",
    "in order to call such function, one needs to porvide argument values in the parenthesis in function call. for example, if one needs to sum and print the result of 53 and 109, this information is to be passed as argument in function call as given below:\n",
    "```` python\n",
    "add_numbers(53, 109)\n",
    "````\n",
    "\n",
    "when values are given to function arguments, the value is assigned to respective parameter variable. The parameter variables are then used in function definition body to accomplish a task, the sum of these two number in this example. <br>\n",
    "When function is called with above written code, 53 is assigned to parameter variable ``first_number`` and 109 is assigned to variable `` second_number``. In function body these two variables are added and result is printed."
   ]
  },
  {
   "cell_type": "code",
   "execution_count": 15,
   "metadata": {},
   "outputs": [
    {
     "name": "stdout",
     "output_type": "stream",
     "text": [
      "162\n"
     ]
    }
   ],
   "source": [
    "add_numbers(53, 109)"
   ]
  },
  {
   "cell_type": "markdown",
   "metadata": {},
   "source": [
    "##### versatility of a function\n",
    "\n",
    "One of the advantage of using arguments in function is make it versatile, so it can be used over and over again for different value without changing the definition of funtion. If we need to get the result of summation of two numbers say 105 and 256, we can use the same fucntion with new values given in arguments.\n",
    "e.g."
   ]
  },
  {
   "cell_type": "code",
   "execution_count": 17,
   "metadata": {},
   "outputs": [
    {
     "name": "stdout",
     "output_type": "stream",
     "text": [
      "361\n"
     ]
    }
   ],
   "source": [
    "add_numbers(105, 256)"
   ]
  },
  {
   "cell_type": "markdown",
   "metadata": {},
   "source": [
    "##### Type of value in arguments\n",
    "\n",
    "Any type of vaue, be it ``int, string, float, list or any datatype``, can be passed to function using argument. For example let's create a function that takes a string and prints this string. e.g."
   ]
  },
  {
   "cell_type": "code",
   "execution_count": 18,
   "metadata": {},
   "outputs": [],
   "source": [
    "def print_greeting(greeting):\n",
    "    print(greeting)"
   ]
  },
  {
   "cell_type": "code",
   "execution_count": 19,
   "metadata": {},
   "outputs": [
    {
     "name": "stdout",
     "output_type": "stream",
     "text": [
      "Hello world\n"
     ]
    }
   ],
   "source": [
    "print_greeting(\"Hello world\")"
   ]
  },
  {
   "cell_type": "markdown",
   "metadata": {},
   "source": [
    "##### Using a variable to pass value to function\n",
    "\n",
    "it is not necessary to pass a value dicrectly to a function, rather a variable can be used as an argument for a function. and the value of this variable is assigned to respective parameter variable of the function. for example\n",
    "````python\n",
    "A_Variable = \"Hello there!!!\"\n",
    "print_greeting(A_Variable)\n",
    "````\n",
    "\n",
    "which this function is called value of ``A_Variable`` is assigned to ``greeting`` paramter variable i.e. ``greeting = A_Variable``"
   ]
  },
  {
   "cell_type": "code",
   "execution_count": 20,
   "metadata": {},
   "outputs": [
    {
     "name": "stdout",
     "output_type": "stream",
     "text": [
      "Hello there!!!\n"
     ]
    }
   ],
   "source": [
    "\n",
    "A_Variable = \"Hello there!!!\"\n",
    "print_greeting(A_Variable)\n"
   ]
  },
  {
   "cell_type": "code",
   "execution_count": null,
   "metadata": {},
   "outputs": [],
   "source": []
  }
 ],
 "metadata": {
  "kernelspec": {
   "display_name": "Python 3",
   "language": "python",
   "name": "python3"
  },
  "language_info": {
   "codemirror_mode": {
    "name": "ipython",
    "version": 3
   },
   "file_extension": ".py",
   "mimetype": "text/x-python",
   "name": "python",
   "nbconvert_exporter": "python",
   "pygments_lexer": "ipython3",
   "version": "3.7.6"
  }
 },
 "nbformat": 4,
 "nbformat_minor": 4
}
