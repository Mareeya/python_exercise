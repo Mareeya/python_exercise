{
 "cells": [
  {
   "cell_type": "markdown",
   "metadata": {},
   "source": [
    "# Chapter 41: Functions\n",
    "\n",
    "A function is a block of Python code that robotically does the same thing again\n",
    "and again, whenever you invoke its name. It saves you repetitive coding and\n",
    "makes your code easier to understand. <br>\n",
    "Python has many built-in functions like ``print(), input(), len()``. Besides built-ins you can also create your own\n",
    "functions to do more specific jobs—these are called user-defined functions. <br>\n",
    "<br>\n",
    "We'll start with a trivially simple example. Let's say you want to add two\n",
    "numbers and display the result:\n",
    "````python\n",
    "1 first_number = 2\n",
    "2 second_number = 3\n",
    "3 total = first_number + second_number\n",
    "````\n",
    "The code above assigns the integer 2 to the variable ``first_number`` and\n",
    "the integer 3 to the variable ``second_number``. Then it sums the values stored\n",
    "in the two variables and assigns the total to the third variable, ``total``.\n",
    "If you add this line…\n",
    "```` python\n",
    "4 print(total)\n",
    "````\n",
    "…Python displays the number ``5``, the sum of two numbers.<br>\n",
    "\n",
    "The same task can be incorporated in a function. The code below can also be called definition of a function."
   ]
  },
  {
   "cell_type": "code",
   "execution_count": 1,
   "metadata": {},
   "outputs": [],
   "source": [
    "def add_numbers():\n",
    "\tfirst_number = 2\n",
    "\tsecond_number = 3\n",
    "\ttotal = first_number + second_number\n",
    "\tprint(total)"
   ]
  },
  {
   "cell_type": "markdown",
   "metadata": {},
   "source": [
    "#### Function identifier and Function definition.\n",
    "\n",
    "In above example, we have created a function, which has a name ``add_numbers()`` which is also called ``function identifier``.\n",
    "a function identefier must follow a ``def`` which means a new function is being defined. slo notice that the instructions or code in a function is one ``tab indented`` (and other tab indentationsare to be added when and if required).\n",
    "<br><br>\n",
    "#### Calling a function\n",
    "a function can be called by entering the function name/identifier in code, e.g in order to call the above function write:\n",
    "````python\n",
    "add_number()\n",
    "````\n",
    "When Python sees this code, it runs all the code in the functionn amedd ``add_numbers``. The number ``5`` is displayed."
   ]
  },
  {
   "cell_type": "code",
   "execution_count": 4,
   "metadata": {},
   "outputs": [
    {
     "name": "stdout",
     "output_type": "stream",
     "text": [
      "5\n"
     ]
    }
   ],
   "source": [
    "add_numbers()"
   ]
  },
  {
   "cell_type": "markdown",
   "metadata": {},
   "source": [
    "### Things to remember:\n",
    "\n",
    "when working with function remember following points:\n",
    "1. A function must be defined and called.\n",
    "2. A function must be defined prior to being called.\n",
    "3. Calling Function that is not defined or defined after the statement that calls it, will generate error and break program.\n",
    "4. The definiton and function call need not be close in code and can be written anywhere in code as long as definition comes before function call.\n",
    "5. Function name must follow the naming rules same as those for naming variables. \n",
    "\n",
    "###### some more examples:\n"
   ]
  },
  {
   "cell_type": "code",
   "execution_count": 8,
   "metadata": {},
   "outputs": [
    {
     "name": "stdout",
     "output_type": "stream",
     "text": [
      "Hello World\n"
     ]
    }
   ],
   "source": [
    "# definition\n",
    "def greet():\n",
    "\tprint(\"Hello World\")\n",
    "    \n",
    "# Function call\n",
    "greet()"
   ]
  },
  {
   "cell_type": "code",
   "execution_count": 9,
   "metadata": {},
   "outputs": [
    {
     "ename": "NameError",
     "evalue": "name 'print_name' is not defined",
     "output_type": "error",
     "traceback": [
      "\u001b[1;31m---------------------------------------------------------------------------\u001b[0m",
      "\u001b[1;31mNameError\u001b[0m                                 Traceback (most recent call last)",
      "\u001b[1;32m<ipython-input-9-97ffa60b0d42>\u001b[0m in \u001b[0;36m<module>\u001b[1;34m\u001b[0m\n\u001b[0;32m      3\u001b[0m \u001b[1;31m# function call\u001b[0m\u001b[1;33m\u001b[0m\u001b[1;33m\u001b[0m\u001b[1;33m\u001b[0m\u001b[0m\n\u001b[0;32m      4\u001b[0m \u001b[1;33m\u001b[0m\u001b[0m\n\u001b[1;32m----> 5\u001b[1;33m \u001b[0mprint_name\u001b[0m\u001b[1;33m(\u001b[0m\u001b[1;33m)\u001b[0m\u001b[1;33m\u001b[0m\u001b[1;33m\u001b[0m\u001b[0m\n\u001b[0m\u001b[0;32m      6\u001b[0m \u001b[1;33m\u001b[0m\u001b[0m\n\u001b[0;32m      7\u001b[0m \u001b[1;31m# fucntion definition\u001b[0m\u001b[1;33m\u001b[0m\u001b[1;33m\u001b[0m\u001b[1;33m\u001b[0m\u001b[0m\n",
      "\u001b[1;31mNameError\u001b[0m: name 'print_name' is not defined"
     ]
    }
   ],
   "source": [
    "# following code would give you an error because function is called is before definition\n",
    "\n",
    "# function call\n",
    "\n",
    "print_name()\n",
    "\n",
    "# fucntion definition\n",
    "def print_name():\n",
    "\tprint(\"My name is XYZ.\")"
   ]
  },
  {
   "cell_type": "markdown",
   "metadata": {},
   "source": [
    "Since a function can be called in multiple time let's try calling function defined in the beginning"
   ]
  },
  {
   "cell_type": "code",
   "execution_count": 12,
   "metadata": {},
   "outputs": [
    {
     "name": "stdout",
     "output_type": "stream",
     "text": [
      "5\n"
     ]
    }
   ],
   "source": [
    "# Recalling a function\n",
    "add_numbers()"
   ]
  },
  {
   "cell_type": "markdown",
   "metadata": {},
   "source": [
    "# 42. Functions: Passing them information\n",
    "\n",
    "In the previous example we created a function ``add_number`` that sum and print two numbers. However those two numbers were defined within the body of the function and no matter how many time that function is called the result will always be same. If we need to change the result we need to pass information to function.<br>\n",
    "The information can be passed to a fucntion using **Arguments** which are provided inside the *parenthesis* after function identifier. Suppose Now we want to create a function which add two number provided to a function. it will be like:\n",
    "```` python\n",
    "def add_numbers(first_number, second_number):\n",
    "    total = first_number + second_number\n",
    "    print(total)\n",
    "````\n",
    "\n",
    "now add_numbers have two arguments, i.e. `` first_number, second_number`` and in function deficiton both numbers are being added and the total is being printed. These variable in parenthesis are called ``function parameters``. It can be any name but should be a legal python variable, each to be separated by a ``,``."
   ]
  },
  {
   "cell_type": "code",
   "execution_count": 16,
   "metadata": {},
   "outputs": [
    {
     "ename": "SyntaxError",
     "evalue": "invalid syntax (<ipython-input-16-dd8f0a4e76d9>, line 1)",
     "output_type": "error",
     "traceback": [
      "\u001b[1;36m  File \u001b[1;32m\"<ipython-input-16-dd8f0a4e76d9>\"\u001b[1;36m, line \u001b[1;32m1\u001b[0m\n\u001b[1;33m    def 1add_numbers(first_number, second_number):\u001b[0m\n\u001b[1;37m        ^\u001b[0m\n\u001b[1;31mSyntaxError\u001b[0m\u001b[1;31m:\u001b[0m invalid syntax\n"
     ]
    }
   ],
   "source": [
    "def add_numbers(first_number, second_number):\n",
    "    total = first_number + second_number\n",
    "    print(total)"
   ]
  },
  {
   "cell_type": "markdown",
   "metadata": {},
   "source": [
    "### Calling a function with arguments:\n",
    "\n",
    "in order to call such function, one needs to porvide argument values in the parenthesis in function call. for example, if one needs to sum and print the result of 53 and 109, this information is to be passed as argument in function call as given below:\n",
    "```` python\n",
    "add_numbers(53, 109)\n",
    "````\n",
    "\n",
    "when values are given to function arguments, the value is assigned to respective parameter variable. The parameter variables are then used in function definition body to accomplish a task, the sum of these two number in this example. <br>\n",
    "When function is called with above written code, 53 is assigned to parameter variable ``first_number`` and 109 is assigned to variable `` second_number``. In function body these two variables are added and result is printed."
   ]
  },
  {
   "cell_type": "code",
   "execution_count": 15,
   "metadata": {},
   "outputs": [
    {
     "name": "stdout",
     "output_type": "stream",
     "text": [
      "162\n"
     ]
    }
   ],
   "source": [
    "add_numbers(53, 109)"
   ]
  },
  {
   "cell_type": "markdown",
   "metadata": {},
   "source": [
    "### versatility of a function\n",
    "\n",
    "One of the advantage of using arguments in function is to make it versatile, so it can be used over and over again for different value without changing the definition of funtion. If we need to get the result of summation of two numbers say 105 and 256, we can use the same fucntion with new values given in arguments.\n",
    "e.g."
   ]
  },
  {
   "cell_type": "code",
   "execution_count": 17,
   "metadata": {},
   "outputs": [
    {
     "name": "stdout",
     "output_type": "stream",
     "text": [
      "361\n"
     ]
    }
   ],
   "source": [
    "add_numbers(105, 256)"
   ]
  },
  {
   "cell_type": "markdown",
   "metadata": {},
   "source": [
    "### Type of value in arguments\n",
    "\n",
    "Any type of vaue, be it ``int, string, float, list or any datatype``, can be passed to function using argument. For example let's create a function that takes a string and prints this string. e.g."
   ]
  },
  {
   "cell_type": "code",
   "execution_count": 18,
   "metadata": {},
   "outputs": [],
   "source": [
    "def print_greeting(greeting):\n",
    "    print(greeting)"
   ]
  },
  {
   "cell_type": "code",
   "execution_count": 19,
   "metadata": {},
   "outputs": [
    {
     "name": "stdout",
     "output_type": "stream",
     "text": [
      "Hello world\n"
     ]
    }
   ],
   "source": [
    "print_greeting(\"Hello world\")"
   ]
  },
  {
   "cell_type": "markdown",
   "metadata": {},
   "source": [
    "### Using a variable to pass value to function\n",
    "\n",
    "it is not necessary to pass a value dicrectly to a function, rather a variable can be used as an argument for a function. and the value of this variable is assigned to respective parameter variable of the function. for example\n",
    "````python\n",
    "A_Variable = \"Hello there!!!\"\n",
    "print_greeting(A_Variable)\n",
    "````\n",
    "\n",
    "which this function is called value of ``A_Variable`` is assigned to ``greeting`` paramter variable i.e. ``greeting = A_Variable``"
   ]
  },
  {
   "cell_type": "code",
   "execution_count": 20,
   "metadata": {},
   "outputs": [
    {
     "name": "stdout",
     "output_type": "stream",
     "text": [
      "Hello there!!!\n"
     ]
    }
   ],
   "source": [
    "\n",
    "A_Variable = \"Hello there!!!\"\n",
    "print_greeting(A_Variable)\n"
   ]
  },
  {
   "cell_type": "markdown",
   "metadata": {},
   "source": [
    "# 43. Functions: Passing information to them a different way"
   ]
  },
  {
   "cell_type": "markdown",
   "metadata": {},
   "source": [
    "### positional Arguments\n",
    "\n",
    "Previosuly we noticed that when a function arguments are given, they are loaded into respective parameter variable. This type of arguments are called positional arguments. For this type or arguments order of the values they are gieven does matters. \n",
    "for example consider a following function which divides two numbers and print result. "
   ]
  },
  {
   "cell_type": "code",
   "execution_count": 3,
   "metadata": {},
   "outputs": [],
   "source": [
    "def divide(numerator, denominator):\n",
    "    result = numerator / denominator\n",
    "    print(result)"
   ]
  },
  {
   "cell_type": "markdown",
   "metadata": {},
   "source": [
    "if we want to print the result of 15 divided by 5, we need to call function as given below. and it will assign 15 to numebrator and 3 to denominator, using the order of parameters in function defination."
   ]
  },
  {
   "cell_type": "code",
   "execution_count": 4,
   "metadata": {},
   "outputs": [
    {
     "name": "stdout",
     "output_type": "stream",
     "text": [
      "3.0\n"
     ]
    }
   ],
   "source": [
    "divide(15,5)"
   ]
  },
  {
   "cell_type": "markdown",
   "metadata": {},
   "source": [
    "however if we call function as\n",
    "```` python\n",
    "divide(3,15)\n",
    "````\n",
    "Now 3 would be assigned to numerator and 15 to denominator"
   ]
  },
  {
   "cell_type": "code",
   "execution_count": 5,
   "metadata": {},
   "outputs": [
    {
     "name": "stdout",
     "output_type": "stream",
     "text": [
      "0.2\n"
     ]
    }
   ],
   "source": [
    "divide(3,15)"
   ]
  },
  {
   "cell_type": "markdown",
   "metadata": {},
   "source": [
    "### Keyword Arguments\n",
    "\n",
    "When a user doesn't want to care about the order of arguments passed to a function, user need to use *keyword arguments* <br>\n",
    "\n",
    "now the order of the variable doesn't matter. In order to use keyword arguments one need to use the same parameter name as it is used while defining a function.\n",
    "<br><br>\n",
    "let's use the previously defined ``divide()`` function using keyword arguments\n"
   ]
  },
  {
   "cell_type": "code",
   "execution_count": 6,
   "metadata": {},
   "outputs": [
    {
     "name": "stdout",
     "output_type": "stream",
     "text": [
      "5.0\n"
     ]
    }
   ],
   "source": [
    "divide(denominator = 3, numerator = 15)"
   ]
  },
  {
   "cell_type": "markdown",
   "metadata": {},
   "source": [
    "Notice that in function definition numerator comes before denominator, but using keyword argument we can pass argument in any order. "
   ]
  },
  {
   "cell_type": "markdown",
   "metadata": {},
   "source": [
    "###### Example from book\n",
    "smarter way to learn python"
   ]
  },
  {
   "cell_type": "code",
   "execution_count": 7,
   "metadata": {},
   "outputs": [],
   "source": [
    "def say_names_of_couple(husband_name, wife_name):\n",
    "    print(\"The names of the couple are \" + husband_name + \" and \" + wife_name)"
   ]
  },
  {
   "cell_type": "code",
   "execution_count": 8,
   "metadata": {},
   "outputs": [
    {
     "name": "stdout",
     "output_type": "stream",
     "text": [
      "The names of the couple are Bill and Zelda\n"
     ]
    }
   ],
   "source": [
    "say_names_of_couple(husband_name=\"Bill\",wife_name=\"Zelda\")"
   ]
  },
  {
   "cell_type": "code",
   "execution_count": 9,
   "metadata": {},
   "outputs": [
    {
     "name": "stdout",
     "output_type": "stream",
     "text": [
      "The names of the couple are Bill and Zelda\n"
     ]
    }
   ],
   "source": [
    "say_names_of_couple(wife_name=\"Zelda\", husband_name=\"Bill\")"
   ]
  },
  {
   "cell_type": "markdown",
   "metadata": {},
   "source": []
  },
  {
   "cell_type": "markdown",
   "metadata": {},
   "source": [
    "# 44. Assigning a default value to a parameter"
   ]
  },
  {
   "cell_type": "markdown",
   "metadata": {},
   "source": [
    "in many cases there might be situation when an arguments value doesn't change. for example tax rate in a state will tend to be constant. Let consider a function that calculate and print the tax amount, when given tax rate and amount.\n"
   ]
  },
  {
   "cell_type": "code",
   "execution_count": 11,
   "metadata": {},
   "outputs": [],
   "source": [
    "def calc_tax(sales_total, tax_rate):\n",
    "    print(sales_total * tax_rate)"
   ]
  },
  {
   "cell_type": "code",
   "execution_count": 12,
   "metadata": {},
   "outputs": [
    {
     "name": "stdout",
     "output_type": "stream",
     "text": [
      "5.0685\n"
     ]
    }
   ],
   "source": [
    "calc_tax(sales_total=101.37, tax_rate=.05)"
   ]
  },
  {
   "cell_type": "markdown",
   "metadata": {},
   "source": [
    "But suppose 98 percent of your sales take place in your state. Your state has a tax rate of 4%. Python allows you to make that rate the default value for the key ``tax_rate``. Below is the example how it can be done."
   ]
  },
  {
   "cell_type": "code",
   "execution_count": 13,
   "metadata": {},
   "outputs": [],
   "source": [
    "def calc_tax(sales_total, tax_rate=.04):\n",
    "    print(sales_total * tax_rate)"
   ]
  },
  {
   "cell_type": "markdown",
   "metadata": {},
   "source": [
    "``tax_rate`` would have a default value of ``0.04`` unless specified otherwise.\n",
    "Once given a default value, this parameter needs not to be given unless it needs the other value other than the default value. Only keyword parameters can have a default value, positional parameters can't. Now the above function can be called using only one parameter."
   ]
  },
  {
   "cell_type": "code",
   "execution_count": 19,
   "metadata": {},
   "outputs": [
    {
     "name": "stdout",
     "output_type": "stream",
     "text": [
      "4.0\n"
     ]
    }
   ],
   "source": [
    "calc_tax(sales_total = 100)"
   ]
  },
  {
   "cell_type": "markdown",
   "metadata": {},
   "source": [
    "or this single paramter can also be a keyword argument."
   ]
  },
  {
   "cell_type": "code",
   "execution_count": 20,
   "metadata": {},
   "outputs": [
    {
     "name": "stdout",
     "output_type": "stream",
     "text": [
      "4.0548\n"
     ]
    }
   ],
   "source": [
    "calc_tax(sales_total=101.37)"
   ]
  },
  {
   "cell_type": "markdown",
   "metadata": {},
   "source": [
    "Should we need to need calculate a tax amount with a different tax rate, we can specify this rate using keyword argument"
   ]
  },
  {
   "cell_type": "code",
   "execution_count": 21,
   "metadata": {},
   "outputs": [
    {
     "name": "stdout",
     "output_type": "stream",
     "text": [
      "6.0\n"
     ]
    }
   ],
   "source": [
    "calc_tax(sales_total = 100, tax_rate = 0.06)"
   ]
  },
  {
   "cell_type": "markdown",
   "metadata": {},
   "source": [
    "# 45. Mixing positional and keyword arguments"
   ]
  },
  {
   "cell_type": "markdown",
   "metadata": {},
   "source": [
    "In the above example we either used poisitonal arguments or keyword arguments, however one may use both types of argument in function definition or function call. for example consider following fucntion,\n"
   ]
  },
  {
   "cell_type": "code",
   "execution_count": 25,
   "metadata": {},
   "outputs": [],
   "source": [
    "def give_greeting(greeting, first_name):\n",
    "    print(greeting + \", \" + first_name)"
   ]
  },
  {
   "cell_type": "markdown",
   "metadata": {},
   "source": [
    "and this function can be called as\n",
    "```` python\n",
    "give_greeting(\"Hello there\", first_name=\"Al\")\n",
    "````\n",
    "\n",
    "The first argument is positional, because there's no keyword. The second argument is a keyword argument, because it pairs the keyword first_name with the value \"Al.\""
   ]
  },
  {
   "cell_type": "code",
   "execution_count": 26,
   "metadata": {},
   "outputs": [
    {
     "name": "stdout",
     "output_type": "stream",
     "text": [
      "Hello there, Al\n"
     ]
    }
   ],
   "source": [
    "give_greeting(\"Hello there\", first_name=\"Al\")"
   ]
  },
  {
   "cell_type": "markdown",
   "metadata": {},
   "source": [
    "Now modify this function a little:"
   ]
  },
  {
   "cell_type": "code",
   "execution_count": 28,
   "metadata": {},
   "outputs": [],
   "source": [
    "def give_greeting(greeting, first_name, flattering_nickname=\" the wonder boy\"):\n",
    "    print(greeting + \", \" + first_name + flattering_nickname)"
   ]
  },
  {
   "cell_type": "markdown",
   "metadata": {},
   "source": [
    "```` python\n",
    "give_greeting(\"Hello there\", first_name=\"Al\")\n",
    "````\n",
    "for tha above calling code if will add ``the woder boy`` as ``flattering_nickname`` as it is not specified in fucntion call."
   ]
  },
  {
   "cell_type": "code",
   "execution_count": 29,
   "metadata": {},
   "outputs": [
    {
     "name": "stdout",
     "output_type": "stream",
     "text": [
      "Hello there, Al the wonder boy\n"
     ]
    }
   ],
   "source": [
    "give_greeting(\"Hello there\", first_name=\"Al\")"
   ]
  },
  {
   "cell_type": "markdown",
   "metadata": {},
   "source": [
    "**Note** : Positional arguments and parameters always come first, keyword parameters without defaults always come second, and keyword parameters with defaults always come last. <br>\n",
    "so let's call the above function in a different fashion"
   ]
  },
  {
   "cell_type": "code",
   "execution_count": 31,
   "metadata": {},
   "outputs": [
    {
     "ename": "SyntaxError",
     "evalue": "positional argument follows keyword argument (<ipython-input-31-6941e82300e3>, line 1)",
     "output_type": "error",
     "traceback": [
      "\u001b[1;36m  File \u001b[1;32m\"<ipython-input-31-6941e82300e3>\"\u001b[1;36m, line \u001b[1;32m1\u001b[0m\n\u001b[1;33m    give_greeting(flattering_nickname=\"The boy who lived.\", first_name = \"Harry\", \"Welcome to Hogwarts\")\u001b[0m\n\u001b[1;37m                                                                                 ^\u001b[0m\n\u001b[1;31mSyntaxError\u001b[0m\u001b[1;31m:\u001b[0m positional argument follows keyword argument\n"
     ]
    }
   ],
   "source": [
    "give_greeting(flattering_nickname=\"The boy who lived.\", first_name = \"Harry\", \"Welcome to Hogwarts\")"
   ]
  },
  {
   "cell_type": "markdown",
   "metadata": {},
   "source": [
    "### Things to remember:\n",
    "\n",
    "1. Order of arguments matters in positional arguments.\n",
    "2. Order of arguments doesn't matter in keyword arguments.\n",
    "3. When you use keyword arguments, be sure to use the exact names of the parameters in the function’s definition.\n",
    "4. Only keyword parameters can have a default value, positional parameters can't\n",
    "5. Positional arguments and parameters always come first, keyword parameters without defaults always come second, and keyword parameters with defaults always come last."
   ]
  },
  {
   "cell_type": "markdown",
   "metadata": {},
   "source": [
    "### Dictionaries, list and other datatypes as function arguments"
   ]
  },
  {
   "cell_type": "markdown",
   "metadata": {},
   "source": [
    "Lists and dictionaries, as well as strings and numbers, can be arguments\n",
    "passed to a function. Here's our customers dictionary, a dictionary that\n",
    "contains a dictionary:"
   ]
  },
  {
   "cell_type": "code",
   "execution_count": 33,
   "metadata": {},
   "outputs": [],
   "source": [
    "customers = {0: {\"first name\":\"John\",\"last name\": \"Ogden\",\"address\": \"301 Arbor Rd.\",},1: {\"first name\":\"Ann\",\"last name\": \"Sattermyer\",\"address\": \"PO Box 1145\",},2: {\"first name\":\"Jill\",\"last name\": \"Somers\",\"address\": \"3 Main St.\",},}\n"
   ]
  },
  {
   "cell_type": "code",
   "execution_count": 36,
   "metadata": {},
   "outputs": [
    {
     "data": {
      "text/plain": [
       "1000"
      ]
     },
     "execution_count": 36,
     "metadata": {},
     "output_type": "execute_result"
    }
   ],
   "source": [
    "avg()"
   ]
  },
  {
   "cell_type": "code",
   "execution_count": null,
   "metadata": {},
   "outputs": [],
   "source": []
  }
 ],
 "metadata": {
  "kernelspec": {
   "display_name": "Python 3",
   "language": "python",
   "name": "python3"
  },
  "language_info": {
   "codemirror_mode": {
    "name": "ipython",
    "version": 3
   },
   "file_extension": ".py",
   "mimetype": "text/x-python",
   "name": "python",
   "nbconvert_exporter": "python",
   "pygments_lexer": "ipython3",
   "version": "3.7.6"
  }
 },
 "nbformat": 4,
 "nbformat_minor": 4
}
